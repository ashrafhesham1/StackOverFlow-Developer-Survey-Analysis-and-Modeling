{
 "cells": [
  {
   "cell_type": "code",
   "execution_count": 2,
   "id": "b40a2b99-a356-45f0-a499-a3bc18443bcc",
   "metadata": {},
   "outputs": [],
   "source": [
    "DATA_PATH = '../data/raw/raw_data.csv'\n",
    "EXPORT_PATH= '../data/processed/preprocessed_data.pkl'"
   ]
  },
  {
   "cell_type": "code",
   "execution_count": 3,
   "id": "f637f52b-4aeb-4b97-a81e-8b5e577233be",
   "metadata": {},
   "outputs": [],
   "source": [
    "import numpy as np\n",
    "import pandas as pd\n",
    "pd.options.display.max_rows = 10000\n",
    "from sklearn.preprocessing import MultiLabelBinarizer\n",
    "import pickle"
   ]
  },
  {
   "cell_type": "markdown",
   "id": "4c76558d-a9fd-4943-b4fe-1cd5144f2cc8",
   "metadata": {},
   "source": [
    "## Functions"
   ]
  },
  {
   "cell_type": "code",
   "execution_count": 4,
   "id": "05587145-20c2-4665-9c98-9607b503dbbb",
   "metadata": {},
   "outputs": [],
   "source": [
    "def split_answers(data_series, delimiters=[';', ',']):\n",
    "    \"\"\"\n",
    "    split multiple answers in a string to a list based on delimiters - only one delimiter is evaluated at most\n",
    "    which is the first match in the list\n",
    "    parameters:\n",
    "        data_series(pd.Series):string series with some answers\n",
    "        delimiters(list): list of strings representing the delimiters used in the split - default =[';' ',']\n",
    "    Returns:\n",
    "        (pd.Series) : a series containing the splitted data if applicable other wise the original series\n",
    "    \"\"\"\n",
    "    \n",
    "    def check_splittable(series, delimiters):\n",
    "        for delimiter in delimiters:\n",
    "            if series.str.contains(delimiter).any():\n",
    "                return (True, delimiter)\n",
    "        return (False, None)\n",
    "    \n",
    "    def split(series, delimiter):\n",
    "        return series.str.split(delimiter)\n",
    "    \n",
    "    is_splittable, delimiter = check_splittable(data_series, delimiters)\n",
    "    if not is_splittable:\n",
    "        return data_series\n",
    "    \n",
    "    splitted_series = split(data_series, delimiter)\n",
    "    \n",
    "    # replace na with empty list\n",
    "    na_mask = splitted_series.isnull()\n",
    "    splitted_series.loc[na_mask] = splitted_series.loc[na_mask].apply(lambda x:[])\n",
    "    \n",
    "    return splitted_series"
   ]
  },
  {
   "cell_type": "code",
   "execution_count": 5,
   "id": "ada09e2c-73db-41a9-94d9-35ed898a86d1",
   "metadata": {},
   "outputs": [],
   "source": [
    "REPLACE_DICT = {\n",
    "    'YearsCodePro': {'Less than 1 year': 0, 'More than 50 years': 51}, \n",
    "    'YearsCode':    {'Less than 1 year': 0, 'More than 50 years': 51}}"
   ]
  },
  {
   "cell_type": "markdown",
   "id": "2ca2b564-2ed0-4fc2-ba28-cf94f19cca5c",
   "metadata": {},
   "source": [
    "## Preprocessing"
   ]
  },
  {
   "cell_type": "code",
   "execution_count": 6,
   "id": "f549d45c-2c4e-4d5f-9ccb-ebbe274cb258",
   "metadata": {},
   "outputs": [],
   "source": [
    "raw_df = pd.read_csv(DATA_PATH)\n",
    "df = raw_df.copy()"
   ]
  },
  {
   "cell_type": "markdown",
   "id": "8a8db7af-db15-45cb-9bea-062884c0ed8e",
   "metadata": {},
   "source": [
    "#### replacing values"
   ]
  },
  {
   "cell_type": "code",
   "execution_count": 7,
   "id": "866b0d60-b448-43e0-8a1d-c5e7272b91a4",
   "metadata": {},
   "outputs": [],
   "source": [
    "for col, replacments in REPLACE_DICT.items():\n",
    "    df[col] = df[col].replace(replacments).astype(np.float32)"
   ]
  },
  {
   "cell_type": "markdown",
   "id": "d7df25ef-b6e8-448f-bac1-5c61bfedbc1c",
   "metadata": {},
   "source": [
    "#### splitting multiple answers"
   ]
  },
  {
   "cell_type": "code",
   "execution_count": 8,
   "id": "4845a5f5-b2ea-4846-813c-a3b1ca55fbd6",
   "metadata": {},
   "outputs": [],
   "source": [
    "obj_cols = df.select_dtypes(include='object').columns.tolist()\n",
    "for col in obj_cols:\n",
    "    df[col] = split_answers(df[col])"
   ]
  },
  {
   "cell_type": "markdown",
   "id": "24ee5301-962c-4686-a957-991ae8b68ed8",
   "metadata": {},
   "source": [
    "## sanity check"
   ]
  },
  {
   "cell_type": "code",
   "execution_count": 9,
   "id": "853b4cb4-bbd0-4ae8-849d-fa5b74beb841",
   "metadata": {},
   "outputs": [
    {
     "data": {
      "text/plain": [
       "ResponseId                                                                         11974\n",
       "Q120                                                                             I agree\n",
       "MainBranch                                              [I am a developer by profession]\n",
       "Age                                                                      25-34 years old\n",
       "Employment                                                         [Employed, full-time]\n",
       "RemoteWork                                       [Hybrid (some remote,  some in-person)]\n",
       "CodingActivities                                          [I don’t code outside of work]\n",
       "EdLevel                                [Master’s degree (M.A.,  M.S.,  M.Eng.,  MBA, ...\n",
       "LearnCode                                   [Colleague, Online Courses or Certification]\n",
       "LearnCodeOnline                                                                       []\n",
       "LearnCodeCoursesCert                                                             [Other]\n",
       "YearsCode                                                                           13.0\n",
       "YearsCodePro                                                                        13.0\n",
       "DevType                                                         [Developer,  full-stack]\n",
       "OrgSize                                                             [10 to 19 employees]\n",
       "PurchaseInfluence                                       I have a great deal of influence\n",
       "TechList                                                                     Investigate\n",
       "BuyNewTool                             [Start a free trial, Ask developers I know/wor...\n",
       "Country                                                                         [France]\n",
       "Currency                                                               EUR European Euro\n",
       "CompTotal                                                                        65000.0\n",
       "LanguageHaveWorkedWith                                  [HTML/CSS, JavaScript, PHP, SQL]\n",
       "LanguageWantToWorkWith                      [HTML/CSS, JavaScript, PHP, SQL, TypeScript]\n",
       "DatabaseHaveWorkedWith                 [Elasticsearch, MariaDB, MySQL, PostgreSQL, Re...\n",
       "DatabaseWantToWorkWith                                                      [PostgreSQL]\n",
       "PlatformHaveWorkedWith                                       [Amazon Web Services (AWS)]\n",
       "PlatformWantToWorkWith                                       [Amazon Web Services (AWS)]\n",
       "WebframeHaveWorkedWith                                          [React, Symfony, Vue.js]\n",
       "WebframeWantToWorkWith                                                 [Symfony, Vue.js]\n",
       "MiscTechHaveWorkedWith                                          [RabbitMQ, React Native]\n",
       "MiscTechWantToWorkWith                                                        [RabbitMQ]\n",
       "ToolsTechHaveWorkedWith                                  [Ansible, Docker, npm, Webpack]\n",
       "ToolsTechWantToWorkWith                                  [Ansible, Docker, npm, Webpack]\n",
       "NEWCollabToolsHaveWorkedWith                                                  [PhpStorm]\n",
       "NEWCollabToolsWantToWorkWith                                                  [PhpStorm]\n",
       "OpSysPersonal use                                                              [Windows]\n",
       "OpSysProfessional use                                                           [Ubuntu]\n",
       "OfficeStackAsyncHaveWorkedWith                                                  [Notion]\n",
       "OfficeStackAsyncWantToWorkWith                                                  [Notion]\n",
       "OfficeStackSyncHaveWorkedWith                                           [Discord, Slack]\n",
       "OfficeStackSyncWantToWorkWith                                           [Discord, Slack]\n",
       "AISearchHaveWorkedWith                                                         [ChatGPT]\n",
       "AISearchWantToWorkWith                                                         [ChatGPT]\n",
       "AIDevHaveWorkedWith                                                                   []\n",
       "AIDevWantToWorkWith                                                                   []\n",
       "NEWSOSites                                                              [Stack Overflow]\n",
       "SOVisitFreq                                                       Multiple times per day\n",
       "SOAccount                                                                            Yes\n",
       "SOPartFreq                                                          A few times per week\n",
       "SOComm                                                                [Yes,  definitely]\n",
       "SOAI                                                                       [i dont care]\n",
       "AISelect                                                       [No,  but I plan to soon]\n",
       "AISent                                                                    Very favorable\n",
       "AIAcc                                                                                 []\n",
       "AIBen                                                         Neither trust nor distrust\n",
       "AIToolInterested in Using                                                             []\n",
       "AIToolCurrently Using                                                                 []\n",
       "AIToolNot interested in Using                                                         []\n",
       "AINextVery different                                                                  []\n",
       "AINextNeither different nor similar                                                   []\n",
       "AINextSomewhat similar                                                                []\n",
       "AINextVery similar                                                                    []\n",
       "AINextSomewhat different                                                              []\n",
       "TBranch                                                                               No\n",
       "ICorPM                                                                               NaN\n",
       "WorkExp                                                                              NaN\n",
       "Knowledge_1                                                                          NaN\n",
       "Knowledge_2                                                                          NaN\n",
       "Knowledge_3                                                                          NaN\n",
       "Knowledge_4                                                                          NaN\n",
       "Knowledge_5                                                                          NaN\n",
       "Knowledge_6                                                                          NaN\n",
       "Knowledge_7                                                                          NaN\n",
       "Knowledge_8                                                                          NaN\n",
       "Frequency_1                                                                          NaN\n",
       "Frequency_2                                                                          NaN\n",
       "Frequency_3                                                                          NaN\n",
       "TimeSearching                                                                        NaN\n",
       "TimeAnswering                                                                        NaN\n",
       "ProfessionalTech                                                                      []\n",
       "Industry                                                                              []\n",
       "SurveyLength                                                                    Too long\n",
       "SurveyEase                                                                          Easy\n",
       "ConvertedCompYearly                                                              69608.0\n",
       "Name: 11973, dtype: object"
      ]
     },
     "execution_count": 9,
     "metadata": {},
     "output_type": "execute_result"
    }
   ],
   "source": [
    "df.sample(1).iloc[0]"
   ]
  },
  {
   "cell_type": "markdown",
   "id": "48edd1f5-fd92-4810-9cb8-01b5d5cb28c2",
   "metadata": {},
   "source": [
    "## Exporting data"
   ]
  },
  {
   "cell_type": "code",
   "execution_count": 10,
   "id": "05aebd99-7491-4c30-9d50-8c15b5570efb",
   "metadata": {},
   "outputs": [],
   "source": [
    "df.to_pickle(EXPORT_PATH)"
   ]
  }
 ],
 "metadata": {
  "kernelspec": {
   "display_name": "Python 3 (ipykernel)",
   "language": "python",
   "name": "python3"
  },
  "language_info": {
   "codemirror_mode": {
    "name": "ipython",
    "version": 3
   },
   "file_extension": ".py",
   "mimetype": "text/x-python",
   "name": "python",
   "nbconvert_exporter": "python",
   "pygments_lexer": "ipython3",
   "version": "3.8.3"
  }
 },
 "nbformat": 4,
 "nbformat_minor": 5
}
