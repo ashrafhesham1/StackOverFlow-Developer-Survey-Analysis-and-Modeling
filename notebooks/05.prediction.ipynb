{
 "cells": [
  {
   "cell_type": "code",
   "execution_count": 10,
   "id": "152e06cb-a461-4e76-8a11-c3e499bfcce8",
   "metadata": {},
   "outputs": [],
   "source": [
    "MLFLOW_TRACKING_URI = '../models/mlruns'\n",
    "MLFLOW_RUN_ID = \"7a24a21a88fe4329a986ba8dd6c942cb\"\n",
    "\n",
    "LOG_DATA_PKL    =  \"data.pkl\"\n",
    "LOG_MODEL_PKL   =  \"model.pkl\"\n",
    "LOG_METRICS_PKL =  \"metrics.pkl\"\n",
    "\n",
    "CLUSTERS_YAML_PATH = \"../data/processed/fe_cluster_skills_description.yaml\""
   ]
  },
  {
   "cell_type": "code",
   "execution_count": 45,
   "id": "3d89a7db-5c1c-40c7-b3b0-daa1f14ffaaf",
   "metadata": {},
   "outputs": [],
   "source": [
    "import os \n",
    "import sklearn\n",
    "import pickle\n",
    "import yaml\n",
    "import re\n",
    "import pandas as pd\n",
    "\n",
    "import mlflow\n",
    "from mlflow.tracking import MlflowClient"
   ]
  },
  {
   "cell_type": "markdown",
   "id": "ff1f8ff8-1bec-4fde-ad91-26b1e22a5abe",
   "metadata": {},
   "source": [
    "## Initialization"
   ]
  },
  {
   "cell_type": "markdown",
   "id": "096ad8fe-a80a-48d4-b74c-2d132467d643",
   "metadata": {},
   "source": [
    "### MLFlow"
   ]
  },
  {
   "cell_type": "code",
   "execution_count": 65,
   "id": "c31e147f-2ec3-4ce9-9196-0c80e50e7000",
   "metadata": {},
   "outputs": [],
   "source": [
    "mlflow.set_tracking_uri(MLFLOW_TRACKING_URI)\n",
    "client = MlflowClient()\n",
    "\n",
    "run = mlflow.get_run(MLFLOW_RUN_ID)\n",
    "artificats_path = re.sub('file:\\\\\\\\','',os.path.normpath(run.info.artifact_uri))"
   ]
  },
  {
   "cell_type": "code",
   "execution_count": 66,
   "id": "3ac5bc53-f690-4f7e-85e9-145f267153f5",
   "metadata": {},
   "outputs": [
    {
     "data": {
      "text/plain": [
       "'D:\\\\projects\\\\Machine Learning\\\\Tech jobs analysis\\\\models\\\\mlruns\\\\953534236177104710\\\\7a24a21a88fe4329a986ba8dd6c942cb\\\\artifacts'"
      ]
     },
     "execution_count": 66,
     "metadata": {},
     "output_type": "execute_result"
    }
   ],
   "source": [
    "artificats_path"
   ]
  },
  {
   "cell_type": "code",
   "execution_count": 64,
   "id": "0cfb93db-5cb9-4f73-a390-2890216d7597",
   "metadata": {},
   "outputs": [
    {
     "data": {
      "text/plain": [
       "'D:\\\\projects\\\\Machine Learning\\\\Tech jobs analysis\\\\models\\\\mlruns\\\\953534236177104710\\\\7a24a21a88fe4329a986ba8dd6c942cb\\\\artifacts'"
      ]
     },
     "execution_count": 64,
     "metadata": {},
     "output_type": "execute_result"
    }
   ],
   "source": []
  },
  {
   "cell_type": "markdown",
   "id": "5f8f5e9e-9e1f-4786-9308-44770cd5cccf",
   "metadata": {},
   "source": [
    "### Loading Model and Data"
   ]
  },
  {
   "cell_type": "code",
   "execution_count": 67,
   "id": "ff7c930f-6c0f-4263-a53e-cf926b4884e8",
   "metadata": {},
   "outputs": [
    {
     "data": {
      "text/plain": [
       "{'model_description': 'Random Forest: with PCA + Hyperparamter tuning',\n",
       " 'model_details': \"GridSearchCV(estimator=Pipeline(steps=[('robustscaler', RobustScaler()),\\n                                       ('pca', PCA()),\\n                                       ('randomforestclassifier',\\n                                        RandomForestClassifier(n_jobs=8,\\n                                                               random_state=0,\\n                                                               verbose=1))]),\\n             param_grid=[{'pca__n_components': [0.6, 0.65, 0.7, 0.8, 0.95],\\n                          'randomforestclassifier__max_depth': [3, 10, None],\\n                          'randomforestclassifier__n_estimators': [250, 500,\\n                                                                   600]}])\",\n",
       " 'model_object': GridSearchCV(estimator=Pipeline(steps=[('robustscaler', RobustScaler()),\n",
       "                                        ('pca', PCA()),\n",
       "                                        ('randomforestclassifier',\n",
       "                                         RandomForestClassifier(n_jobs=8,\n",
       "                                                                random_state=0,\n",
       "                                                                verbose=1))]),\n",
       "              param_grid=[{'pca__n_components': [0.6, 0.65, 0.7, 0.8, 0.95],\n",
       "                           'randomforestclassifier__max_depth': [3, 10, None],\n",
       "                           'randomforestclassifier__n_estimators': [250, 500,\n",
       "                                                                    600]}])}"
      ]
     },
     "execution_count": 67,
     "metadata": {},
     "output_type": "execute_result"
    }
   ],
   "source": [
    "# model\n",
    "model_path = os.path.join(artificats_path, LOG_MODEL_PKL)\n",
    "with open(model_path, \"rb\") as f:\n",
    "    model = pickle.load(f)\n",
    "\n",
    "model"
   ]
  },
  {
   "cell_type": "code",
   "execution_count": 68,
   "id": "57b947cb-ac55-4582-b902-148822d5fa71",
   "metadata": {},
   "outputs": [
    {
     "data": {
      "text/plain": [
       "dict_keys(['data_path', 'training_indices', 'test_indices', 'features_names', 'targets_names'])"
      ]
     },
     "execution_count": 68,
     "metadata": {},
     "output_type": "execute_result"
    }
   ],
   "source": [
    "# Load data pkl\n",
    "data_path  = os.path.join(artificats_path, LOG_DATA_PKL)\n",
    "with open(data_path, 'rb') as handle:\n",
    "    data = pickle.load(handle)\n",
    "\n",
    "data.keys()"
   ]
  },
  {
   "cell_type": "code",
   "execution_count": 69,
   "id": "910bff44-a026-4016-9404-9f5740509919",
   "metadata": {},
   "outputs": [],
   "source": [
    "# Unpack vars\n",
    "features_names = pd.Series(data[\"features_names\"])\n",
    "targets_names  = pd.Series(data['targets_names'])\n",
    "classifier = model['model_object']"
   ]
  },
  {
   "cell_type": "code",
   "execution_count": 70,
   "id": "662845a8-4f8b-48c8-a593-be9483438474",
   "metadata": {},
   "outputs": [
    {
     "data": {
      "text/html": [
       "<style>#sk-container-id-1 {color: black;background-color: white;}#sk-container-id-1 pre{padding: 0;}#sk-container-id-1 div.sk-toggleable {background-color: white;}#sk-container-id-1 label.sk-toggleable__label {cursor: pointer;display: block;width: 100%;margin-bottom: 0;padding: 0.3em;box-sizing: border-box;text-align: center;}#sk-container-id-1 label.sk-toggleable__label-arrow:before {content: \"▸\";float: left;margin-right: 0.25em;color: #696969;}#sk-container-id-1 label.sk-toggleable__label-arrow:hover:before {color: black;}#sk-container-id-1 div.sk-estimator:hover label.sk-toggleable__label-arrow:before {color: black;}#sk-container-id-1 div.sk-toggleable__content {max-height: 0;max-width: 0;overflow: hidden;text-align: left;background-color: #f0f8ff;}#sk-container-id-1 div.sk-toggleable__content pre {margin: 0.2em;color: black;border-radius: 0.25em;background-color: #f0f8ff;}#sk-container-id-1 input.sk-toggleable__control:checked~div.sk-toggleable__content {max-height: 200px;max-width: 100%;overflow: auto;}#sk-container-id-1 input.sk-toggleable__control:checked~label.sk-toggleable__label-arrow:before {content: \"▾\";}#sk-container-id-1 div.sk-estimator input.sk-toggleable__control:checked~label.sk-toggleable__label {background-color: #d4ebff;}#sk-container-id-1 div.sk-label input.sk-toggleable__control:checked~label.sk-toggleable__label {background-color: #d4ebff;}#sk-container-id-1 input.sk-hidden--visually {border: 0;clip: rect(1px 1px 1px 1px);clip: rect(1px, 1px, 1px, 1px);height: 1px;margin: -1px;overflow: hidden;padding: 0;position: absolute;width: 1px;}#sk-container-id-1 div.sk-estimator {font-family: monospace;background-color: #f0f8ff;border: 1px dotted black;border-radius: 0.25em;box-sizing: border-box;margin-bottom: 0.5em;}#sk-container-id-1 div.sk-estimator:hover {background-color: #d4ebff;}#sk-container-id-1 div.sk-parallel-item::after {content: \"\";width: 100%;border-bottom: 1px solid gray;flex-grow: 1;}#sk-container-id-1 div.sk-label:hover label.sk-toggleable__label {background-color: #d4ebff;}#sk-container-id-1 div.sk-serial::before {content: \"\";position: absolute;border-left: 1px solid gray;box-sizing: border-box;top: 0;bottom: 0;left: 50%;z-index: 0;}#sk-container-id-1 div.sk-serial {display: flex;flex-direction: column;align-items: center;background-color: white;padding-right: 0.2em;padding-left: 0.2em;position: relative;}#sk-container-id-1 div.sk-item {position: relative;z-index: 1;}#sk-container-id-1 div.sk-parallel {display: flex;align-items: stretch;justify-content: center;background-color: white;position: relative;}#sk-container-id-1 div.sk-item::before, #sk-container-id-1 div.sk-parallel-item::before {content: \"\";position: absolute;border-left: 1px solid gray;box-sizing: border-box;top: 0;bottom: 0;left: 50%;z-index: -1;}#sk-container-id-1 div.sk-parallel-item {display: flex;flex-direction: column;z-index: 1;position: relative;background-color: white;}#sk-container-id-1 div.sk-parallel-item:first-child::after {align-self: flex-end;width: 50%;}#sk-container-id-1 div.sk-parallel-item:last-child::after {align-self: flex-start;width: 50%;}#sk-container-id-1 div.sk-parallel-item:only-child::after {width: 0;}#sk-container-id-1 div.sk-dashed-wrapped {border: 1px dashed gray;margin: 0 0.4em 0.5em 0.4em;box-sizing: border-box;padding-bottom: 0.4em;background-color: white;}#sk-container-id-1 div.sk-label label {font-family: monospace;font-weight: bold;display: inline-block;line-height: 1.2em;}#sk-container-id-1 div.sk-label-container {text-align: center;}#sk-container-id-1 div.sk-container {/* jupyter's `normalize.less` sets `[hidden] { display: none; }` but bootstrap.min.css set `[hidden] { display: none !important; }` so we also need the `!important` here to be able to override the default hidden behavior on the sphinx rendered scikit-learn.org. See: https://github.com/scikit-learn/scikit-learn/issues/21755 */display: inline-block !important;position: relative;}#sk-container-id-1 div.sk-text-repr-fallback {display: none;}</style><div id=\"sk-container-id-1\" class=\"sk-top-container\"><div class=\"sk-text-repr-fallback\"><pre>GridSearchCV(estimator=Pipeline(steps=[(&#x27;robustscaler&#x27;, RobustScaler()),\n",
       "                                       (&#x27;pca&#x27;, PCA()),\n",
       "                                       (&#x27;randomforestclassifier&#x27;,\n",
       "                                        RandomForestClassifier(n_jobs=8,\n",
       "                                                               random_state=0,\n",
       "                                                               verbose=1))]),\n",
       "             param_grid=[{&#x27;pca__n_components&#x27;: [0.6, 0.65, 0.7, 0.8, 0.95],\n",
       "                          &#x27;randomforestclassifier__max_depth&#x27;: [3, 10, None],\n",
       "                          &#x27;randomforestclassifier__n_estimators&#x27;: [250, 500,\n",
       "                                                                   600]}])</pre><b>In a Jupyter environment, please rerun this cell to show the HTML representation or trust the notebook. <br />On GitHub, the HTML representation is unable to render, please try loading this page with nbviewer.org.</b></div><div class=\"sk-container\" hidden><div class=\"sk-item sk-dashed-wrapped\"><div class=\"sk-label-container\"><div class=\"sk-label sk-toggleable\"><input class=\"sk-toggleable__control sk-hidden--visually\" id=\"sk-estimator-id-1\" type=\"checkbox\" ><label for=\"sk-estimator-id-1\" class=\"sk-toggleable__label sk-toggleable__label-arrow\">GridSearchCV</label><div class=\"sk-toggleable__content\"><pre>GridSearchCV(estimator=Pipeline(steps=[(&#x27;robustscaler&#x27;, RobustScaler()),\n",
       "                                       (&#x27;pca&#x27;, PCA()),\n",
       "                                       (&#x27;randomforestclassifier&#x27;,\n",
       "                                        RandomForestClassifier(n_jobs=8,\n",
       "                                                               random_state=0,\n",
       "                                                               verbose=1))]),\n",
       "             param_grid=[{&#x27;pca__n_components&#x27;: [0.6, 0.65, 0.7, 0.8, 0.95],\n",
       "                          &#x27;randomforestclassifier__max_depth&#x27;: [3, 10, None],\n",
       "                          &#x27;randomforestclassifier__n_estimators&#x27;: [250, 500,\n",
       "                                                                   600]}])</pre></div></div></div><div class=\"sk-parallel\"><div class=\"sk-parallel-item\"><div class=\"sk-item\"><div class=\"sk-label-container\"><div class=\"sk-label sk-toggleable\"><input class=\"sk-toggleable__control sk-hidden--visually\" id=\"sk-estimator-id-2\" type=\"checkbox\" ><label for=\"sk-estimator-id-2\" class=\"sk-toggleable__label sk-toggleable__label-arrow\">estimator: Pipeline</label><div class=\"sk-toggleable__content\"><pre>Pipeline(steps=[(&#x27;robustscaler&#x27;, RobustScaler()), (&#x27;pca&#x27;, PCA()),\n",
       "                (&#x27;randomforestclassifier&#x27;,\n",
       "                 RandomForestClassifier(n_jobs=8, random_state=0, verbose=1))])</pre></div></div></div><div class=\"sk-serial\"><div class=\"sk-item\"><div class=\"sk-serial\"><div class=\"sk-item\"><div class=\"sk-estimator sk-toggleable\"><input class=\"sk-toggleable__control sk-hidden--visually\" id=\"sk-estimator-id-3\" type=\"checkbox\" ><label for=\"sk-estimator-id-3\" class=\"sk-toggleable__label sk-toggleable__label-arrow\">RobustScaler</label><div class=\"sk-toggleable__content\"><pre>RobustScaler()</pre></div></div></div><div class=\"sk-item\"><div class=\"sk-estimator sk-toggleable\"><input class=\"sk-toggleable__control sk-hidden--visually\" id=\"sk-estimator-id-4\" type=\"checkbox\" ><label for=\"sk-estimator-id-4\" class=\"sk-toggleable__label sk-toggleable__label-arrow\">PCA</label><div class=\"sk-toggleable__content\"><pre>PCA()</pre></div></div></div><div class=\"sk-item\"><div class=\"sk-estimator sk-toggleable\"><input class=\"sk-toggleable__control sk-hidden--visually\" id=\"sk-estimator-id-5\" type=\"checkbox\" ><label for=\"sk-estimator-id-5\" class=\"sk-toggleable__label sk-toggleable__label-arrow\">RandomForestClassifier</label><div class=\"sk-toggleable__content\"><pre>RandomForestClassifier(n_jobs=8, random_state=0, verbose=1)</pre></div></div></div></div></div></div></div></div></div></div></div></div>"
      ],
      "text/plain": [
       "GridSearchCV(estimator=Pipeline(steps=[('robustscaler', RobustScaler()),\n",
       "                                       ('pca', PCA()),\n",
       "                                       ('randomforestclassifier',\n",
       "                                        RandomForestClassifier(n_jobs=8,\n",
       "                                                               random_state=0,\n",
       "                                                               verbose=1))]),\n",
       "             param_grid=[{'pca__n_components': [0.6, 0.65, 0.7, 0.8, 0.95],\n",
       "                          'randomforestclassifier__max_depth': [3, 10, None],\n",
       "                          'randomforestclassifier__n_estimators': [250, 500,\n",
       "                                                                   600]}])"
      ]
     },
     "execution_count": 70,
     "metadata": {},
     "output_type": "execute_result"
    }
   ],
   "source": [
    "classifier"
   ]
  },
  {
   "cell_type": "markdown",
   "id": "a206e6a2-9cef-4cc8-987e-44d0c2ea48b7",
   "metadata": {},
   "source": [
    "## Loading skill clusters"
   ]
  },
  {
   "cell_type": "code",
   "execution_count": 72,
   "id": "771a561c-b247-46a1-beb6-daba511187e1",
   "metadata": {},
   "outputs": [],
   "source": [
    "with open(CLUSTERS_YAML_PATH, \"r\") as stream:\n",
    "    clusters_config = yaml.safe_load(stream)"
   ]
  },
  {
   "cell_type": "code",
   "execution_count": 75,
   "id": "3290256b-738c-469d-a19d-f4abf2793e11",
   "metadata": {},
   "outputs": [],
   "source": [
    "clusters_list = [(cluster_name, skill)\n",
    "                 for cluster_name, cluster_skills in clusters_config.items()\n",
    "                 for skill in cluster_skills]\n",
    "clusters_df = pd.DataFrame(clusters_list, columns=['cluster_name', 'skill'])"
   ]
  },
  {
   "cell_type": "markdown",
   "id": "5a04a75c-7a00-405d-a057-cbaeb4855572",
   "metadata": {},
   "source": [
    "### Prediction"
   ]
  },
  {
   "cell_type": "code",
   "execution_count": 78,
   "id": "293cf647-5e44-4d61-b3b5-117a092fe07c",
   "metadata": {},
   "outputs": [
    {
     "data": {
      "text/plain": [
       "True"
      ]
     },
     "execution_count": 78,
     "metadata": {},
     "output_type": "execute_result"
    }
   ],
   "source": [
    "sample_skills = ['Scala', 'Hadoop', 'Python']\n",
    "#Verification\n",
    "pd.Series(sample_skills).isin(features_names).all()"
   ]
  },
  {
   "cell_type": "markdown",
   "id": "a3197ce1-b650-4a39-9978-d80ffee0f120",
   "metadata": {},
   "source": [
    "### Creating cluster features"
   ]
  },
  {
   "cell_type": "code",
   "execution_count": 83,
   "id": "0fdd8912-edca-4bd1-b8f5-20d421a3b667",
   "metadata": {},
   "outputs": [
    {
     "data": {
      "text/plain": [
       "cluster_name\n",
       "skill_group_0     0\n",
       "skill_group_1     0\n",
       "skill_group_10    0\n",
       "skill_group_11    0\n",
       "skill_group_12    0\n",
       "skill_group_13    0\n",
       "skill_group_14    0\n",
       "skill_group_15    2\n",
       "skill_group_16    0\n",
       "skill_group_17    0\n",
       "skill_group_18    0\n",
       "skill_group_19    0\n",
       "skill_group_2     0\n",
       "skill_group_20    0\n",
       "skill_group_3     0\n",
       "skill_group_4     0\n",
       "skill_group_5     0\n",
       "skill_group_6     0\n",
       "skill_group_7     0\n",
       "skill_group_8     0\n",
       "skill_group_9     1\n",
       "Name: sample_skills, dtype: int64"
      ]
     },
     "execution_count": 83,
     "metadata": {},
     "output_type": "execute_result"
    }
   ],
   "source": [
    "sample_clusters = clusters_df.copy()\n",
    "sample_clusters[\"sample_skills\"] = sample_clusters[\"skill\"].isin(sample_skills)\n",
    "cluster_features  = sample_clusters.groupby('cluster_name')['sample_skills'].sum()\n",
    "cluster_features "
   ]
  },
  {
   "cell_type": "markdown",
   "id": "75896f20-2e28-4991-a8c2-bdbee7c124c0",
   "metadata": {},
   "source": [
    "### Creating one-hot encoded skills"
   ]
  },
  {
   "cell_type": "code",
   "execution_count": 84,
   "id": "9e02e578-f1fb-4988-b26c-590b70c14a3f",
   "metadata": {},
   "outputs": [
    {
     "data": {
      "text/plain": [
       "0                          APL\n",
       "1                          Ada\n",
       "2                         Apex\n",
       "3                     Assembly\n",
       "4      Bash/Shell (all shells)\n",
       "                ...           \n",
       "203              liblittletest\n",
       "204                        npm\n",
       "205                       pnpm\n",
       "206                     snitch\n",
       "207                      tunit\n",
       "Length: 208, dtype: object"
      ]
     },
     "execution_count": 84,
     "metadata": {},
     "output_type": "execute_result"
    }
   ],
   "source": [
    "skills_names = features_names[~features_names.isin(cluster_features.index)]\n",
    "skills_names"
   ]
  },
  {
   "cell_type": "code",
   "execution_count": 94,
   "id": "388c8e4b-392b-46e2-8eda-f4d5f7bc241f",
   "metadata": {},
   "outputs": [],
   "source": [
    "ohe_skills = pd.Series(skills_names.isin(sample_skills).astype(int).tolist(), index=skills_names)"
   ]
  },
  {
   "cell_type": "code",
   "execution_count": 98,
   "id": "0b281e72-fcfb-4bcb-bf3d-8c3235af1a32",
   "metadata": {},
   "outputs": [],
   "source": [
    "features = pd.concat([ohe_skills, cluster_features]).loc[features_names]"
   ]
  },
  {
   "cell_type": "markdown",
   "id": "2cac878a-34d2-4ac1-9109-8f1b37063142",
   "metadata": {},
   "source": [
    "#### Predict"
   ]
  },
  {
   "cell_type": "code",
   "execution_count": 99,
   "id": "455c1470-a4cc-4788-b9b6-a918e0363f63",
   "metadata": {},
   "outputs": [
    {
     "name": "stderr",
     "output_type": "stream",
     "text": [
      "[Parallel(n_jobs=8)]: Using backend ThreadingBackend with 8 concurrent workers.\n",
      "[Parallel(n_jobs=8)]: Done  34 tasks      | elapsed:    0.0s\n",
      "[Parallel(n_jobs=8)]: Done 184 tasks      | elapsed:    0.1s\n",
      "[Parallel(n_jobs=8)]: Done 250 out of 250 | elapsed:    0.1s finished\n"
     ]
    }
   ],
   "source": [
    "predictions = classifier.predict_proba([features.values])"
   ]
  },
  {
   "cell_type": "code",
   "execution_count": 102,
   "id": "80506e90-7f96-47ec-a24d-967920e7f787",
   "metadata": {},
   "outputs": [
    {
     "data": {
      "text/plain": [
       "Developer                                        0.772\n",
       " QA or test                                      0.700\n",
       "Data scientist or machine learning specialist    0.088\n",
       "Engineer                                         0.068\n",
       " data                                            0.064\n",
       "dtype: float64"
      ]
     },
     "execution_count": 102,
     "metadata": {},
     "output_type": "execute_result"
    }
   ],
   "source": [
    "positive_probs = [prob[0][1] for prob in predictions]\n",
    "pd.Series(positive_probs, \n",
    "          index=targets_names).sort_values(ascending=False)[:5]"
   ]
  },
  {
   "cell_type": "code",
   "execution_count": null,
   "id": "6d0e7c7d-756c-4d0e-93fb-feb3ae2bc533",
   "metadata": {},
   "outputs": [],
   "source": []
  }
 ],
 "metadata": {
  "kernelspec": {
   "display_name": "Python 3 (ipykernel)",
   "language": "python",
   "name": "python3"
  },
  "language_info": {
   "codemirror_mode": {
    "name": "ipython",
    "version": 3
   },
   "file_extension": ".py",
   "mimetype": "text/x-python",
   "name": "python",
   "nbconvert_exporter": "python",
   "pygments_lexer": "ipython3",
   "version": "3.8.3"
  }
 },
 "nbformat": 4,
 "nbformat_minor": 5
}
